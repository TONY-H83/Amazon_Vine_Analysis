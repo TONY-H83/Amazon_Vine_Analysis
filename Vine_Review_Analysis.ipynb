{
 "cells": [
  {
   "cell_type": "code",
   "execution_count": 1,
   "id": "d46a179e",
   "metadata": {},
   "outputs": [],
   "source": [
    "import pandas as pd\n",
    "import matplotlib.pyplot as plt"
   ]
  },
  {
   "cell_type": "code",
   "execution_count": 2,
   "id": "2c23a477",
   "metadata": {},
   "outputs": [
    {
     "data": {
      "text/html": [
       "<div>\n",
       "<style scoped>\n",
       "    .dataframe tbody tr th:only-of-type {\n",
       "        vertical-align: middle;\n",
       "    }\n",
       "\n",
       "    .dataframe tbody tr th {\n",
       "        vertical-align: top;\n",
       "    }\n",
       "\n",
       "    .dataframe thead th {\n",
       "        text-align: right;\n",
       "    }\n",
       "</style>\n",
       "<table border=\"1\" class=\"dataframe\">\n",
       "  <thead>\n",
       "    <tr style=\"text-align: right;\">\n",
       "      <th></th>\n",
       "      <th>review_id</th>\n",
       "      <th>star_rating</th>\n",
       "      <th>helpful_votes</th>\n",
       "      <th>total_votes</th>\n",
       "      <th>vine</th>\n",
       "      <th>verified_purchase</th>\n",
       "    </tr>\n",
       "  </thead>\n",
       "  <tbody>\n",
       "    <tr>\n",
       "      <th>0</th>\n",
       "      <td>R32VYUWDIB5LKE</td>\n",
       "      <td>5</td>\n",
       "      <td>0</td>\n",
       "      <td>0</td>\n",
       "      <td>N</td>\n",
       "      <td>Y</td>\n",
       "    </tr>\n",
       "    <tr>\n",
       "      <th>1</th>\n",
       "      <td>R3CCMP4EV6HAVL</td>\n",
       "      <td>5</td>\n",
       "      <td>0</td>\n",
       "      <td>0</td>\n",
       "      <td>N</td>\n",
       "      <td>Y</td>\n",
       "    </tr>\n",
       "    <tr>\n",
       "      <th>2</th>\n",
       "      <td>R14NAE6UGTVTA2</td>\n",
       "      <td>3</td>\n",
       "      <td>1</td>\n",
       "      <td>3</td>\n",
       "      <td>N</td>\n",
       "      <td>Y</td>\n",
       "    </tr>\n",
       "    <tr>\n",
       "      <th>3</th>\n",
       "      <td>R2E7QEWSC6EWFA</td>\n",
       "      <td>4</td>\n",
       "      <td>0</td>\n",
       "      <td>1</td>\n",
       "      <td>N</td>\n",
       "      <td>Y</td>\n",
       "    </tr>\n",
       "    <tr>\n",
       "      <th>4</th>\n",
       "      <td>R26E6I47GQRYKR</td>\n",
       "      <td>2</td>\n",
       "      <td>3</td>\n",
       "      <td>5</td>\n",
       "      <td>N</td>\n",
       "      <td>N</td>\n",
       "    </tr>\n",
       "  </tbody>\n",
       "</table>\n",
       "</div>"
      ],
      "text/plain": [
       "        review_id  star_rating  helpful_votes  total_votes vine  \\\n",
       "0  R32VYUWDIB5LKE            5              0            0    N   \n",
       "1  R3CCMP4EV6HAVL            5              0            0    N   \n",
       "2  R14NAE6UGTVTA2            3              1            3    N   \n",
       "3  R2E7QEWSC6EWFA            4              0            1    N   \n",
       "4  R26E6I47GQRYKR            2              3            5    N   \n",
       "\n",
       "  verified_purchase  \n",
       "0                 Y  \n",
       "1                 Y  \n",
       "2                 Y  \n",
       "3                 Y  \n",
       "4                 N  "
      ]
     },
     "execution_count": 2,
     "metadata": {},
     "output_type": "execute_result"
    }
   ],
   "source": [
    "vine_df = pd.read_csv('vine_table.csv')\n",
    "vine_df.head()"
   ]
  },
  {
   "cell_type": "code",
   "execution_count": 3,
   "id": "c46909bc",
   "metadata": {},
   "outputs": [
    {
     "name": "stdout",
     "output_type": "stream",
     "text": [
      "<class 'pandas.core.frame.DataFrame'>\n",
      "RangeIndex: 254080 entries, 0 to 254079\n",
      "Data columns (total 6 columns):\n",
      " #   Column             Non-Null Count   Dtype \n",
      "---  ------             --------------   ----- \n",
      " 0   review_id          254080 non-null  object\n",
      " 1   star_rating        254080 non-null  int64 \n",
      " 2   helpful_votes      254080 non-null  int64 \n",
      " 3   total_votes        254080 non-null  int64 \n",
      " 4   vine               254080 non-null  object\n",
      " 5   verified_purchase  254080 non-null  object\n",
      "dtypes: int64(3), object(3)\n",
      "memory usage: 11.6+ MB\n"
     ]
    }
   ],
   "source": [
    "vine_df.info()"
   ]
  },
  {
   "cell_type": "code",
   "execution_count": 4,
   "id": "71952d45",
   "metadata": {},
   "outputs": [
    {
     "data": {
      "text/html": [
       "<div>\n",
       "<style scoped>\n",
       "    .dataframe tbody tr th:only-of-type {\n",
       "        vertical-align: middle;\n",
       "    }\n",
       "\n",
       "    .dataframe tbody tr th {\n",
       "        vertical-align: top;\n",
       "    }\n",
       "\n",
       "    .dataframe thead th {\n",
       "        text-align: right;\n",
       "    }\n",
       "</style>\n",
       "<table border=\"1\" class=\"dataframe\">\n",
       "  <thead>\n",
       "    <tr style=\"text-align: right;\">\n",
       "      <th></th>\n",
       "      <th>review_id</th>\n",
       "      <th>star_rating</th>\n",
       "      <th>helpful_votes</th>\n",
       "      <th>total_votes</th>\n",
       "      <th>vine</th>\n",
       "      <th>verified_purchase</th>\n",
       "    </tr>\n",
       "  </thead>\n",
       "  <tbody>\n",
       "    <tr>\n",
       "      <th>118</th>\n",
       "      <td>R2LX6LJ7BA92OO</td>\n",
       "      <td>1</td>\n",
       "      <td>21</td>\n",
       "      <td>27</td>\n",
       "      <td>N</td>\n",
       "      <td>Y</td>\n",
       "    </tr>\n",
       "    <tr>\n",
       "      <th>123</th>\n",
       "      <td>R3VMEW1JWIXV1E</td>\n",
       "      <td>1</td>\n",
       "      <td>2</td>\n",
       "      <td>26</td>\n",
       "      <td>N</td>\n",
       "      <td>N</td>\n",
       "    </tr>\n",
       "    <tr>\n",
       "      <th>231</th>\n",
       "      <td>R8RBQTRZ32CFG</td>\n",
       "      <td>1</td>\n",
       "      <td>0</td>\n",
       "      <td>29</td>\n",
       "      <td>N</td>\n",
       "      <td>Y</td>\n",
       "    </tr>\n",
       "    <tr>\n",
       "      <th>431</th>\n",
       "      <td>R2612UZ2GU2K29</td>\n",
       "      <td>5</td>\n",
       "      <td>25</td>\n",
       "      <td>32</td>\n",
       "      <td>N</td>\n",
       "      <td>Y</td>\n",
       "    </tr>\n",
       "    <tr>\n",
       "      <th>434</th>\n",
       "      <td>R28X8YI8B00C6S</td>\n",
       "      <td>4</td>\n",
       "      <td>52</td>\n",
       "      <td>63</td>\n",
       "      <td>N</td>\n",
       "      <td>Y</td>\n",
       "    </tr>\n",
       "  </tbody>\n",
       "</table>\n",
       "</div>"
      ],
      "text/plain": [
       "          review_id  star_rating  helpful_votes  total_votes vine  \\\n",
       "118  R2LX6LJ7BA92OO            1             21           27    N   \n",
       "123  R3VMEW1JWIXV1E            1              2           26    N   \n",
       "231   R8RBQTRZ32CFG            1              0           29    N   \n",
       "431  R2612UZ2GU2K29            5             25           32    N   \n",
       "434  R28X8YI8B00C6S            4             52           63    N   \n",
       "\n",
       "    verified_purchase  \n",
       "118                 Y  \n",
       "123                 N  \n",
       "231                 Y  \n",
       "431                 Y  \n",
       "434                 Y  "
      ]
     },
     "execution_count": 4,
     "metadata": {},
     "output_type": "execute_result"
    }
   ],
   "source": [
    "# Filter by total votes\n",
    "filtered_vine_df = vine_df[vine_df['total_votes'] >= 20]\n",
    "filtered_vine_df.head()"
   ]
  },
  {
   "cell_type": "code",
   "execution_count": 5,
   "id": "4ba29df3",
   "metadata": {},
   "outputs": [
    {
     "data": {
      "text/html": [
       "<div>\n",
       "<style scoped>\n",
       "    .dataframe tbody tr th:only-of-type {\n",
       "        vertical-align: middle;\n",
       "    }\n",
       "\n",
       "    .dataframe tbody tr th {\n",
       "        vertical-align: top;\n",
       "    }\n",
       "\n",
       "    .dataframe thead th {\n",
       "        text-align: right;\n",
       "    }\n",
       "</style>\n",
       "<table border=\"1\" class=\"dataframe\">\n",
       "  <thead>\n",
       "    <tr style=\"text-align: right;\">\n",
       "      <th></th>\n",
       "      <th>review_id</th>\n",
       "      <th>star_rating</th>\n",
       "      <th>helpful_votes</th>\n",
       "      <th>total_votes</th>\n",
       "      <th>vine</th>\n",
       "      <th>verified_purchase</th>\n",
       "    </tr>\n",
       "  </thead>\n",
       "  <tbody>\n",
       "    <tr>\n",
       "      <th>118</th>\n",
       "      <td>R2LX6LJ7BA92OO</td>\n",
       "      <td>1</td>\n",
       "      <td>21</td>\n",
       "      <td>27</td>\n",
       "      <td>N</td>\n",
       "      <td>Y</td>\n",
       "    </tr>\n",
       "    <tr>\n",
       "      <th>431</th>\n",
       "      <td>R2612UZ2GU2K29</td>\n",
       "      <td>5</td>\n",
       "      <td>25</td>\n",
       "      <td>32</td>\n",
       "      <td>N</td>\n",
       "      <td>Y</td>\n",
       "    </tr>\n",
       "    <tr>\n",
       "      <th>434</th>\n",
       "      <td>R28X8YI8B00C6S</td>\n",
       "      <td>4</td>\n",
       "      <td>52</td>\n",
       "      <td>63</td>\n",
       "      <td>N</td>\n",
       "      <td>Y</td>\n",
       "    </tr>\n",
       "    <tr>\n",
       "      <th>438</th>\n",
       "      <td>R3O3RDGDHHINF2</td>\n",
       "      <td>5</td>\n",
       "      <td>41</td>\n",
       "      <td>53</td>\n",
       "      <td>N</td>\n",
       "      <td>Y</td>\n",
       "    </tr>\n",
       "    <tr>\n",
       "      <th>657</th>\n",
       "      <td>R1FSDCDV0XV3X6</td>\n",
       "      <td>4</td>\n",
       "      <td>27</td>\n",
       "      <td>33</td>\n",
       "      <td>N</td>\n",
       "      <td>Y</td>\n",
       "    </tr>\n",
       "  </tbody>\n",
       "</table>\n",
       "</div>"
      ],
      "text/plain": [
       "          review_id  star_rating  helpful_votes  total_votes vine  \\\n",
       "118  R2LX6LJ7BA92OO            1             21           27    N   \n",
       "431  R2612UZ2GU2K29            5             25           32    N   \n",
       "434  R28X8YI8B00C6S            4             52           63    N   \n",
       "438  R3O3RDGDHHINF2            5             41           53    N   \n",
       "657  R1FSDCDV0XV3X6            4             27           33    N   \n",
       "\n",
       "    verified_purchase  \n",
       "118                 Y  \n",
       "431                 Y  \n",
       "434                 Y  \n",
       "438                 Y  \n",
       "657                 Y  "
      ]
     },
     "execution_count": 5,
     "metadata": {},
     "output_type": "execute_result"
    }
   ],
   "source": [
    "# Filter by most helpful\n",
    "new_vine_df = filtered_vine_df.loc[filtered_vine_df.helpful_votes / filtered_vine_df.total_votes >= 0.5]\n",
    "new_vine_df.head()"
   ]
  },
  {
   "cell_type": "code",
   "execution_count": 6,
   "id": "ad83079d",
   "metadata": {},
   "outputs": [
    {
     "data": {
      "text/html": [
       "<div>\n",
       "<style scoped>\n",
       "    .dataframe tbody tr th:only-of-type {\n",
       "        vertical-align: middle;\n",
       "    }\n",
       "\n",
       "    .dataframe tbody tr th {\n",
       "        vertical-align: top;\n",
       "    }\n",
       "\n",
       "    .dataframe thead th {\n",
       "        text-align: right;\n",
       "    }\n",
       "</style>\n",
       "<table border=\"1\" class=\"dataframe\">\n",
       "  <thead>\n",
       "    <tr style=\"text-align: right;\">\n",
       "      <th></th>\n",
       "      <th>review_id</th>\n",
       "      <th>star_rating</th>\n",
       "      <th>helpful_votes</th>\n",
       "      <th>total_votes</th>\n",
       "      <th>vine</th>\n",
       "      <th>verified_purchase</th>\n",
       "    </tr>\n",
       "  </thead>\n",
       "  <tbody>\n",
       "    <tr>\n",
       "      <th>60837</th>\n",
       "      <td>R22SUWPP3KRZT6</td>\n",
       "      <td>3</td>\n",
       "      <td>21</td>\n",
       "      <td>26</td>\n",
       "      <td>Y</td>\n",
       "      <td>N</td>\n",
       "    </tr>\n",
       "    <tr>\n",
       "      <th>70434</th>\n",
       "      <td>R3O1MAY03ZF3MP</td>\n",
       "      <td>3</td>\n",
       "      <td>19</td>\n",
       "      <td>20</td>\n",
       "      <td>Y</td>\n",
       "      <td>N</td>\n",
       "    </tr>\n",
       "    <tr>\n",
       "      <th>78932</th>\n",
       "      <td>R30LQPCSI3ELHN</td>\n",
       "      <td>5</td>\n",
       "      <td>18</td>\n",
       "      <td>23</td>\n",
       "      <td>Y</td>\n",
       "      <td>N</td>\n",
       "    </tr>\n",
       "    <tr>\n",
       "      <th>86407</th>\n",
       "      <td>R3QIS7D8004AD2</td>\n",
       "      <td>3</td>\n",
       "      <td>76</td>\n",
       "      <td>80</td>\n",
       "      <td>Y</td>\n",
       "      <td>N</td>\n",
       "    </tr>\n",
       "    <tr>\n",
       "      <th>110221</th>\n",
       "      <td>R3R6CDRZU5U2XW</td>\n",
       "      <td>4</td>\n",
       "      <td>41</td>\n",
       "      <td>47</td>\n",
       "      <td>Y</td>\n",
       "      <td>N</td>\n",
       "    </tr>\n",
       "  </tbody>\n",
       "</table>\n",
       "</div>"
      ],
      "text/plain": [
       "             review_id  star_rating  helpful_votes  total_votes vine  \\\n",
       "60837   R22SUWPP3KRZT6            3             21           26    Y   \n",
       "70434   R3O1MAY03ZF3MP            3             19           20    Y   \n",
       "78932   R30LQPCSI3ELHN            5             18           23    Y   \n",
       "86407   R3QIS7D8004AD2            3             76           80    Y   \n",
       "110221  R3R6CDRZU5U2XW            4             41           47    Y   \n",
       "\n",
       "       verified_purchase  \n",
       "60837                  N  \n",
       "70434                  N  \n",
       "78932                  N  \n",
       "86407                  N  \n",
       "110221                 N  "
      ]
     },
     "execution_count": 6,
     "metadata": {},
     "output_type": "execute_result"
    }
   ],
   "source": [
    "# Paid reviews\n",
    "vine_reviews = new_vine_df[new_vine_df['vine'] == 'Y']\n",
    "vine_reviews.head()"
   ]
  },
  {
   "cell_type": "code",
   "execution_count": 7,
   "id": "29df5eb1",
   "metadata": {},
   "outputs": [
    {
     "data": {
      "text/html": [
       "<div>\n",
       "<style scoped>\n",
       "    .dataframe tbody tr th:only-of-type {\n",
       "        vertical-align: middle;\n",
       "    }\n",
       "\n",
       "    .dataframe tbody tr th {\n",
       "        vertical-align: top;\n",
       "    }\n",
       "\n",
       "    .dataframe thead th {\n",
       "        text-align: right;\n",
       "    }\n",
       "</style>\n",
       "<table border=\"1\" class=\"dataframe\">\n",
       "  <thead>\n",
       "    <tr style=\"text-align: right;\">\n",
       "      <th></th>\n",
       "      <th>review_id</th>\n",
       "      <th>star_rating</th>\n",
       "      <th>helpful_votes</th>\n",
       "      <th>total_votes</th>\n",
       "      <th>vine</th>\n",
       "      <th>verified_purchase</th>\n",
       "    </tr>\n",
       "  </thead>\n",
       "  <tbody>\n",
       "    <tr>\n",
       "      <th>118</th>\n",
       "      <td>R2LX6LJ7BA92OO</td>\n",
       "      <td>1</td>\n",
       "      <td>21</td>\n",
       "      <td>27</td>\n",
       "      <td>N</td>\n",
       "      <td>Y</td>\n",
       "    </tr>\n",
       "    <tr>\n",
       "      <th>431</th>\n",
       "      <td>R2612UZ2GU2K29</td>\n",
       "      <td>5</td>\n",
       "      <td>25</td>\n",
       "      <td>32</td>\n",
       "      <td>N</td>\n",
       "      <td>Y</td>\n",
       "    </tr>\n",
       "    <tr>\n",
       "      <th>434</th>\n",
       "      <td>R28X8YI8B00C6S</td>\n",
       "      <td>4</td>\n",
       "      <td>52</td>\n",
       "      <td>63</td>\n",
       "      <td>N</td>\n",
       "      <td>Y</td>\n",
       "    </tr>\n",
       "    <tr>\n",
       "      <th>438</th>\n",
       "      <td>R3O3RDGDHHINF2</td>\n",
       "      <td>5</td>\n",
       "      <td>41</td>\n",
       "      <td>53</td>\n",
       "      <td>N</td>\n",
       "      <td>Y</td>\n",
       "    </tr>\n",
       "    <tr>\n",
       "      <th>657</th>\n",
       "      <td>R1FSDCDV0XV3X6</td>\n",
       "      <td>4</td>\n",
       "      <td>27</td>\n",
       "      <td>33</td>\n",
       "      <td>N</td>\n",
       "      <td>Y</td>\n",
       "    </tr>\n",
       "  </tbody>\n",
       "</table>\n",
       "</div>"
      ],
      "text/plain": [
       "          review_id  star_rating  helpful_votes  total_votes vine  \\\n",
       "118  R2LX6LJ7BA92OO            1             21           27    N   \n",
       "431  R2612UZ2GU2K29            5             25           32    N   \n",
       "434  R28X8YI8B00C6S            4             52           63    N   \n",
       "438  R3O3RDGDHHINF2            5             41           53    N   \n",
       "657  R1FSDCDV0XV3X6            4             27           33    N   \n",
       "\n",
       "    verified_purchase  \n",
       "118                 Y  \n",
       "431                 Y  \n",
       "434                 Y  \n",
       "438                 Y  \n",
       "657                 Y  "
      ]
     },
     "execution_count": 7,
     "metadata": {},
     "output_type": "execute_result"
    }
   ],
   "source": [
    "# Unpaid reviews\n",
    "not_vine_reviews = new_vine_df[new_vine_df['vine'] == 'N']\n",
    "not_vine_reviews.head()"
   ]
  },
  {
   "cell_type": "code",
   "execution_count": 8,
   "id": "4d7629db",
   "metadata": {},
   "outputs": [
    {
     "data": {
      "text/plain": [
       "19"
      ]
     },
     "execution_count": 8,
     "metadata": {},
     "output_type": "execute_result"
    }
   ],
   "source": [
    "# Number of paid reviews\n",
    "count_vine = len(vine_reviews)\n",
    "count_vine"
   ]
  },
  {
   "cell_type": "code",
   "execution_count": 9,
   "id": "cc239c46",
   "metadata": {},
   "outputs": [
    {
     "data": {
      "text/plain": [
       "8332"
      ]
     },
     "execution_count": 9,
     "metadata": {},
     "output_type": "execute_result"
    }
   ],
   "source": [
    "# Number of unpaid reviews\n",
    "count_nonvine = len(not_vine_reviews)\n",
    "count_nonvine"
   ]
  },
  {
   "cell_type": "code",
   "execution_count": 10,
   "id": "db89752a",
   "metadata": {},
   "outputs": [
    {
     "data": {
      "text/plain": [
       "9"
      ]
     },
     "execution_count": 10,
     "metadata": {},
     "output_type": "execute_result"
    }
   ],
   "source": [
    "# Paid 5-star reviews\n",
    "max_rating_vine = len(vine_reviews[vine_reviews['star_rating']==5])\n",
    "max_rating_vine"
   ]
  },
  {
   "cell_type": "code",
   "execution_count": 11,
   "id": "9f69e24e",
   "metadata": {},
   "outputs": [
    {
     "data": {
      "text/plain": [
       "4783"
      ]
     },
     "execution_count": 11,
     "metadata": {},
     "output_type": "execute_result"
    }
   ],
   "source": [
    "# Unpaid 5-star reviews\n",
    "max_rating_nonvine = len(not_vine_reviews[not_vine_reviews['star_rating']==5])\n",
    "max_rating_nonvine"
   ]
  },
  {
   "cell_type": "code",
   "execution_count": 12,
   "id": "16737cd2",
   "metadata": {},
   "outputs": [
    {
     "data": {
      "text/plain": [
       "0.47368421052631576"
      ]
     },
     "execution_count": 12,
     "metadata": {},
     "output_type": "execute_result"
    }
   ],
   "source": [
    "# Percentage of paid 5-star reviews\n",
    "max_rating_vine/count_vine"
   ]
  },
  {
   "cell_type": "code",
   "execution_count": 13,
   "id": "2dfa2f4b",
   "metadata": {},
   "outputs": [
    {
     "data": {
      "text/plain": [
       "0.5740518482957273"
      ]
     },
     "execution_count": 13,
     "metadata": {},
     "output_type": "execute_result"
    }
   ],
   "source": [
    "# Percentage of unpaid 5-star reviews\n",
    "max_rating_nonvine/count_nonvine"
   ]
  },
  {
   "cell_type": "code",
   "execution_count": null,
   "id": "570c1675",
   "metadata": {},
   "outputs": [],
   "source": []
  }
 ],
 "metadata": {
  "kernelspec": {
   "display_name": "Python 3 (ipykernel)",
   "language": "python",
   "name": "python3"
  },
  "language_info": {
   "codemirror_mode": {
    "name": "ipython",
    "version": 3
   },
   "file_extension": ".py",
   "mimetype": "text/x-python",
   "name": "python",
   "nbconvert_exporter": "python",
   "pygments_lexer": "ipython3",
   "version": "3.9.13"
  }
 },
 "nbformat": 4,
 "nbformat_minor": 5
}
